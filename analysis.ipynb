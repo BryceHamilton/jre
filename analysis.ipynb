{
 "cells": [
  {
   "cell_type": "code",
   "execution_count": 1,
   "id": "9310ccf1",
   "metadata": {},
   "outputs": [],
   "source": [
    "import pandas as pd"
   ]
  },
  {
   "cell_type": "code",
   "execution_count": 63,
   "id": "aafa5fd2",
   "metadata": {},
   "outputs": [],
   "source": [
    "df = pd.read_csv(\"jre.csv\")\n",
    "df = df.drop(columns=[\"Unnamed: 0\"])\n",
    "df = df[df[\"pod_num\"].str.find(\"MMA\") == -1]"
   ]
  },
  {
   "cell_type": "code",
   "execution_count": 64,
   "id": "4ac73e9f",
   "metadata": {
    "scrolled": true
   },
   "outputs": [
    {
     "data": {
      "text/html": [
       "<div>\n",
       "<style scoped>\n",
       "    .dataframe tbody tr th:only-of-type {\n",
       "        vertical-align: middle;\n",
       "    }\n",
       "\n",
       "    .dataframe tbody tr th {\n",
       "        vertical-align: top;\n",
       "    }\n",
       "\n",
       "    .dataframe thead th {\n",
       "        text-align: right;\n",
       "    }\n",
       "</style>\n",
       "<table border=\"1\" class=\"dataframe\">\n",
       "  <thead>\n",
       "    <tr style=\"text-align: right;\">\n",
       "      <th></th>\n",
       "      <th>pod_num</th>\n",
       "      <th>guest</th>\n",
       "      <th>guest_desc</th>\n",
       "      <th>transcript</th>\n",
       "      <th>date</th>\n",
       "    </tr>\n",
       "  </thead>\n",
       "  <tbody>\n",
       "    <tr>\n",
       "      <th>0</th>\n",
       "      <td>1104</td>\n",
       "      <td>Boyan Slat</td>\n",
       "      <td>Boyan Slat is an inventor, entrepreneur and fo...</td>\n",
       "      <td>Ladies and gentlemen, welcome to the show. Ho...</td>\n",
       "      <td>April 16, 2018</td>\n",
       "    </tr>\n",
       "    <tr>\n",
       "      <th>1</th>\n",
       "      <td>1105</td>\n",
       "      <td>Michael Hunter</td>\n",
       "      <td>Michael Hunter is the chef and owner of Antler...</td>\n",
       "      <td>Hey everybody, how the fuck are ya? Huh? Huh?...</td>\n",
       "      <td>April 17, 2018</td>\n",
       "    </tr>\n",
       "    <tr>\n",
       "      <th>2</th>\n",
       "      <td>1106</td>\n",
       "      <td>Colion Noir</td>\n",
       "      <td>Colion Noir is a gun rights activist, lawyer, ...</td>\n",
       "      <td>hey ladies gentlemen how's the thing this epi...</td>\n",
       "      <td>April 18, 2018</td>\n",
       "    </tr>\n",
       "    <tr>\n",
       "      <th>3</th>\n",
       "      <td>1107</td>\n",
       "      <td>Sam Harris &amp; Maajid Nawaz</td>\n",
       "      <td>Sam Harris is a neuroscientist and author of t...</td>\n",
       "      <td>hey you friends what's going on this episode ...</td>\n",
       "      <td>April 18, 2018</td>\n",
       "    </tr>\n",
       "    <tr>\n",
       "      <th>4</th>\n",
       "      <td>1108</td>\n",
       "      <td>Peter Attia</td>\n",
       "      <td>Peter Attia is is the founder of Attia Medical...</td>\n",
       "      <td>late and gentlemen how's everyone doing I'm d...</td>\n",
       "      <td>April 24, 2018</td>\n",
       "    </tr>\n",
       "  </tbody>\n",
       "</table>\n",
       "</div>"
      ],
      "text/plain": [
       "  pod_num                      guest  \\\n",
       "0    1104                 Boyan Slat   \n",
       "1    1105             Michael Hunter   \n",
       "2    1106                Colion Noir   \n",
       "3    1107  Sam Harris & Maajid Nawaz   \n",
       "4    1108                Peter Attia   \n",
       "\n",
       "                                          guest_desc  \\\n",
       "0  Boyan Slat is an inventor, entrepreneur and fo...   \n",
       "1  Michael Hunter is the chef and owner of Antler...   \n",
       "2  Colion Noir is a gun rights activist, lawyer, ...   \n",
       "3  Sam Harris is a neuroscientist and author of t...   \n",
       "4  Peter Attia is is the founder of Attia Medical...   \n",
       "\n",
       "                                          transcript            date  \n",
       "0   Ladies and gentlemen, welcome to the show. Ho...  April 16, 2018  \n",
       "1   Hey everybody, how the fuck are ya? Huh? Huh?...  April 17, 2018  \n",
       "2   hey ladies gentlemen how's the thing this epi...  April 18, 2018  \n",
       "3   hey you friends what's going on this episode ...  April 18, 2018  \n",
       "4   late and gentlemen how's everyone doing I'm d...  April 24, 2018  "
      ]
     },
     "execution_count": 64,
     "metadata": {},
     "output_type": "execute_result"
    }
   ],
   "source": [
    "df.head(5)"
   ]
  },
  {
   "cell_type": "code",
   "execution_count": 65,
   "id": "2013ffc7",
   "metadata": {
    "scrolled": true
   },
   "outputs": [
    {
     "data": {
      "text/plain": [
       "277"
      ]
     },
     "execution_count": 65,
     "metadata": {},
     "output_type": "execute_result"
    }
   ],
   "source": [
    "len(df)"
   ]
  },
  {
   "cell_type": "markdown",
   "id": "f3e2a7f2",
   "metadata": {},
   "source": [
    "## Guests"
   ]
  },
  {
   "cell_type": "code",
   "execution_count": 66,
   "id": "8c530e61",
   "metadata": {},
   "outputs": [
    {
     "data": {
      "text/plain": [
       "guest\n",
       "Tom Papa              5.0\n",
       "Tim Dillon            4.0\n",
       "Mike Baker            4.0\n",
       "Tony Hinchcliffe      3.0\n",
       "Lex Fridman           3.0\n",
       "Theo Von              3.0\n",
       "Duncan Trussell       3.0\n",
       "Joey Diaz             3.0\n",
       "Tom Green             2.0\n",
       "Tim Pool              2.0\n",
       "Tim Kennedy           2.0\n",
       "Steven Rinella        2.0\n",
       "Peter Schiff          2.0\n",
       "Nikki Glaser          2.0\n",
       "Mike Tyson            2.0\n",
       "Andrew Santino        2.0\n",
       "Andrew Schulz         2.0\n",
       "Jordan Peterson       2.0\n",
       "Gad Saad              2.0\n",
       "Dr. Rhonda Patrick    2.0\n",
       "Dr. Debra Soh         2.0\n",
       "Donnell Rawlings      2.0\n",
       "Colion Noir           2.0\n",
       "Cameron Hanes         2.0\n",
       "Brian Redban          2.0\n",
       "Bill Burr             2.0\n",
       "Ben Greenfield        2.0\n",
       "Kyle Dunnigan         2.0\n",
       "dtype: float64"
      ]
     },
     "execution_count": 66,
     "metadata": {},
     "output_type": "execute_result"
    }
   ],
   "source": [
    "guests = df.groupby(\"guest\").size()\n",
    "reocurring_guests = guests.where(guests > 1).dropna()\n",
    "reocurring_guests.sort_values(ascending=False)"
   ]
  },
  {
   "cell_type": "markdown",
   "id": "aa34f4a8",
   "metadata": {},
   "source": [
    "## Greetings"
   ]
  },
  {
   "cell_type": "code",
   "execution_count": 83,
   "id": "5da4e7ea",
   "metadata": {},
   "outputs": [],
   "source": [
    "def get_type(s):\n",
    "    types = [\"comedian\", \"author\", \"athlete\", \"Professor\", \"entrepreneur\", \"journalist\", \"founder\", \"singer\"]\n",
    "    for t in types:\n",
    "        if t.lower() in s.lower():\n",
    "            return t.lower()\n",
    "    return \"other\"\n",
    "df[\"guest_type\"] = df[\"guest_desc\"].apply(get_type)"
   ]
  },
  {
   "cell_type": "code",
   "execution_count": 84,
   "id": "3b799bd7",
   "metadata": {
    "scrolled": true
   },
   "outputs": [
    {
     "data": {
      "text/plain": [
       "<AxesSubplot:xlabel='guest_type'>"
      ]
     },
     "execution_count": 84,
     "metadata": {},
     "output_type": "execute_result"
    },
    {
     "data": {
      "image/png": "[encoded data removed]",
      "text/plain": [
       "<Figure size 432x288 with 1 Axes>"
      ]
     },
     "metadata": {
      "needs_background": "light"
     },
     "output_type": "display_data"
    }
   ],
   "source": [
    "df.groupby(\"guest_type\").size().plot.bar()"
   ]
  },
  {
   "cell_type": "code",
   "execution_count": 85,
   "id": "c68fcdd3",
   "metadata": {},
   "outputs": [
    {
     "data": {
      "text/html": [
       "<div>\n",
       "<style scoped>\n",
       "    .dataframe tbody tr th:only-of-type {\n",
       "        vertical-align: middle;\n",
       "    }\n",
       "\n",
       "    .dataframe tbody tr th {\n",
       "        vertical-align: top;\n",
       "    }\n",
       "\n",
       "    .dataframe thead th {\n",
       "        text-align: right;\n",
       "    }\n",
       "</style>\n",
       "<table border=\"1\" class=\"dataframe\">\n",
       "  <thead>\n",
       "    <tr style=\"text-align: right;\">\n",
       "      <th></th>\n",
       "      <th>pod_num</th>\n",
       "      <th>guest</th>\n",
       "      <th>guest_desc</th>\n",
       "      <th>transcript</th>\n",
       "      <th>date</th>\n",
       "      <th>guest_type</th>\n",
       "    </tr>\n",
       "  </thead>\n",
       "  <tbody>\n",
       "    <tr>\n",
       "      <th>1</th>\n",
       "      <td>1105</td>\n",
       "      <td>Michael Hunter</td>\n",
       "      <td>Michael Hunter is the chef and owner of Antler...</td>\n",
       "      <td>Hey everybody, how the fuck are ya? Huh? Huh?...</td>\n",
       "      <td>April 17, 2018</td>\n",
       "      <td>other</td>\n",
       "    </tr>\n",
       "    <tr>\n",
       "      <th>2</th>\n",
       "      <td>1106</td>\n",
       "      <td>Colion Noir</td>\n",
       "      <td>Colion Noir is a gun rights activist, lawyer, ...</td>\n",
       "      <td>hey ladies gentlemen how's the thing this epi...</td>\n",
       "      <td>April 18, 2018</td>\n",
       "      <td>other</td>\n",
       "    </tr>\n",
       "    <tr>\n",
       "      <th>11</th>\n",
       "      <td>1115</td>\n",
       "      <td>Mike Baker</td>\n",
       "      <td>Mike Baker is a former CIA covert operations o...</td>\n",
       "      <td>hey what's up everybody I just announced show...</td>\n",
       "      <td>May 9, 2018</td>\n",
       "      <td>other</td>\n",
       "    </tr>\n",
       "    <tr>\n",
       "      <th>13</th>\n",
       "      <td>1117</td>\n",
       "      <td>Tim Kennedy</td>\n",
       "      <td>Tim Kennedy is a Ranger, sniper, Special Force...</td>\n",
       "      <td>ladies and gentlemen how the fuck is everybod...</td>\n",
       "      <td>May 17, 2018</td>\n",
       "      <td>other</td>\n",
       "    </tr>\n",
       "    <tr>\n",
       "      <th>18</th>\n",
       "      <td>1122</td>\n",
       "      <td>Donnie Vincent</td>\n",
       "      <td>Donnie Vincent is a biologist, explorer, conse...</td>\n",
       "      <td>hey ladies and gentlemen how's everybody doin...</td>\n",
       "      <td>May 29, 2018</td>\n",
       "      <td>other</td>\n",
       "    </tr>\n",
       "    <tr>\n",
       "      <th>...</th>\n",
       "      <td>...</td>\n",
       "      <td>...</td>\n",
       "      <td>...</td>\n",
       "      <td>...</td>\n",
       "      <td>...</td>\n",
       "      <td>...</td>\n",
       "    </tr>\n",
       "    <tr>\n",
       "      <th>256</th>\n",
       "      <td>1552</td>\n",
       "      <td>Matthew McConaughey</td>\n",
       "      <td>\\nMatthew McConaughey is an Academy Award-winn...</td>\n",
       "      <td>Hello, friends, welcome to the show. This epi...</td>\n",
       "      <td>October 22, 2020</td>\n",
       "      <td>other</td>\n",
       "    </tr>\n",
       "    <tr>\n",
       "      <th>258</th>\n",
       "      <td>1554</td>\n",
       "      <td>Kanye West</td>\n",
       "      <td>\\nKanye West is a rapper, record producer, fas...</td>\n",
       "      <td>Hello, friends, welcome to the show, this epi...</td>\n",
       "      <td>October 24, 2020</td>\n",
       "      <td>other</td>\n",
       "    </tr>\n",
       "    <tr>\n",
       "      <th>262</th>\n",
       "      <td>1558</td>\n",
       "      <td>Tristan Harris</td>\n",
       "      <td>\\nFormer Google Design Ethicist Tristan Harris...</td>\n",
       "      <td>Hello, friends, welcome to the show, this epi...</td>\n",
       "      <td>October 30, 2020</td>\n",
       "      <td>other</td>\n",
       "    </tr>\n",
       "    <tr>\n",
       "      <th>275</th>\n",
       "      <td>1571</td>\n",
       "      <td>Emily Harrington</td>\n",
       "      <td>\\nRock climber and adventurer Emily Harrington...</td>\n",
       "      <td>Hello, friends, welcome to the show, this epi...</td>\n",
       "      <td>November 27, 2020</td>\n",
       "      <td>other</td>\n",
       "    </tr>\n",
       "    <tr>\n",
       "      <th>276</th>\n",
       "      <td>Fight_Companion</td>\n",
       "      <td>May 16, 2020</td>\n",
       "      <td>\\nJoe is joined by Eddie Bravo, Bryan Callen &amp;...</td>\n",
       "      <td>Fantastic. Now, the Joe Rogan experience, joi...</td>\n",
       "      <td>May 17, 2020</td>\n",
       "      <td>other</td>\n",
       "    </tr>\n",
       "  </tbody>\n",
       "</table>\n",
       "<p>87 rows × 6 columns</p>\n",
       "</div>"
      ],
      "text/plain": [
       "             pod_num                guest  \\\n",
       "1               1105       Michael Hunter   \n",
       "2               1106          Colion Noir   \n",
       "11              1115           Mike Baker   \n",
       "13              1117          Tim Kennedy   \n",
       "18              1122       Donnie Vincent   \n",
       "..               ...                  ...   \n",
       "256             1552  Matthew McConaughey   \n",
       "258             1554           Kanye West   \n",
       "262             1558       Tristan Harris   \n",
       "275             1571     Emily Harrington   \n",
       "276  Fight_Companion         May 16, 2020   \n",
       "\n",
       "                                            guest_desc  \\\n",
       "1    Michael Hunter is the chef and owner of Antler...   \n",
       "2    Colion Noir is a gun rights activist, lawyer, ...   \n",
       "11   Mike Baker is a former CIA covert operations o...   \n",
       "13   Tim Kennedy is a Ranger, sniper, Special Force...   \n",
       "18   Donnie Vincent is a biologist, explorer, conse...   \n",
       "..                                                 ...   \n",
       "256  \\nMatthew McConaughey is an Academy Award-winn...   \n",
       "258  \\nKanye West is a rapper, record producer, fas...   \n",
       "262  \\nFormer Google Design Ethicist Tristan Harris...   \n",
       "275  \\nRock climber and adventurer Emily Harrington...   \n",
       "276  \\nJoe is joined by Eddie Bravo, Bryan Callen &...   \n",
       "\n",
       "                                            transcript               date  \\\n",
       "1     Hey everybody, how the fuck are ya? Huh? Huh?...     April 17, 2018   \n",
       "2     hey ladies gentlemen how's the thing this epi...     April 18, 2018   \n",
       "11    hey what's up everybody I just announced show...        May 9, 2018   \n",
       "13    ladies and gentlemen how the fuck is everybod...       May 17, 2018   \n",
       "18    hey ladies and gentlemen how's everybody doin...       May 29, 2018   \n",
       "..                                                 ...                ...   \n",
       "256   Hello, friends, welcome to the show. This epi...   October 22, 2020   \n",
       "258   Hello, friends, welcome to the show, this epi...   October 24, 2020   \n",
       "262   Hello, friends, welcome to the show, this epi...   October 30, 2020   \n",
       "275   Hello, friends, welcome to the show, this epi...  November 27, 2020   \n",
       "276   Fantastic. Now, the Joe Rogan experience, joi...       May 17, 2020   \n",
       "\n",
       "    guest_type  \n",
       "1        other  \n",
       "2        other  \n",
       "11       other  \n",
       "13       other  \n",
       "18       other  \n",
       "..         ...  \n",
       "256      other  \n",
       "258      other  \n",
       "262      other  \n",
       "275      other  \n",
       "276      other  \n",
       "\n",
       "[87 rows x 6 columns]"
      ]
     },
     "execution_count": 85,
     "metadata": {},
     "output_type": "execute_result"
    }
   ],
   "source": [
    "df[df[\"guest_type\"] == \"other\"]"
   ]
  },
  {
   "cell_type": "code",
   "execution_count": 6,
   "id": "3a87fbee",
   "metadata": {},
   "outputs": [],
   "source": [
    "def get_greeting(greeting):\n",
    "    if \"gentlemen\" in greeting or \"ladies\" in greeting:\n",
    "        return \"ladies and gentlemen\"\n",
    "    elif \"friends\" in greeting:\n",
    "        return \"friends\"\n",
    "    elif \"everybody\" in greeting:\n",
    "        return \"everybody\"\n",
    "    elif \"folks\" in greeting:\n",
    "        return \"folks\"\n",
    "    else:\n",
    "        return \"other\""
   ]
  },
  {
   "cell_type": "code",
   "execution_count": 7,
   "id": "91f549a0",
   "metadata": {
    "scrolled": true
   },
   "outputs": [],
   "source": [
    "df[\"greeting\"] = df[\"transcript\"].str[:50]\n",
    "df[\"greeting_name\"] = df[\"greeting\"].apply(get_greeting)"
   ]
  },
  {
   "cell_type": "code",
   "execution_count": 8,
   "id": "eb690163",
   "metadata": {},
   "outputs": [
    {
     "data": {
      "text/plain": [
       "<AxesSubplot:xlabel='greeting_name'>"
      ]
     },
     "execution_count": 8,
     "metadata": {},
     "output_type": "execute_result"
    },
    {
     "data": {
      "image/png": "[encoded data removed]",
      "text/plain": [
       "<Figure size 432x288 with 1 Axes>"
      ]
     },
     "metadata": {
      "needs_background": "light"
     },
     "output_type": "display_data"
    }
   ],
   "source": [
    "df.groupby(\"greeting_name\").size().plot.bar()"
   ]
  },
  {
   "cell_type": "code",
   "execution_count": 9,
   "id": "7d6634e6",
   "metadata": {},
   "outputs": [
    {
     "data": {
      "text/plain": [
       "7       this episode of the motherfuking podcast my c...\n",
       "89      this episode of the motherfuking pop. Brought...\n",
       "91      this episode of the motherfuking podcast is b...\n",
       "102     it's the day before motherfuking Thanksgiving...\n",
       "Name: greeting, dtype: object"
      ]
     },
     "execution_count": 9,
     "metadata": {},
     "output_type": "execute_result"
    }
   ],
   "source": [
    "df[df[\"greeting\"].str.contains(\"motherfuking\")][\"greeting\"]"
   ]
  },
  {
   "cell_type": "code",
   "execution_count": 10,
   "id": "939eaf57",
   "metadata": {},
   "outputs": [
    {
     "name": "stdout",
     "output_type": "stream",
     "text": [
      " this episode is brought to you by Onnit most of t\n",
      " this episode of the motherfuking podcast my compa\n",
      " Yo Boise Idaho we're coming to town baby! June 30\n",
      " I'm taking this show on the Madison area I can't \n",
      " beautiful people of the world hi how you doing go\n",
      " he you fuckers Toronto oh shit Toronto coming in \n",
      " hey Boise Idaho and other people but I'm going to\n",
      " hey buddy I got a bunch of tour dates coming up a\n",
      " I'm going to Tucson on Friday in Boise on Saturda\n",
      " I'm back I had to go I had to take some time off \n",
      " raise in Toronto September 29th I've said this a \n",
      " this episode of the podcast is brought to you by \n",
      " this episode of the podcast is brought to you by \n",
      " Netflix You Beautiful bastards Joey Diaz specials\n",
      " this episode of the motherfuking pop. Brought to \n",
      " this episode of the motherfuking podcast is broug\n",
      " it's the day before motherfuking Thanksgiving and\n",
      " this episode of the podcast is brought to you by \n",
      " Bishop so the podcast is brought to you by Square\n",
      "   they  fit like designer jeans from Italy. But w\n",
      " Fantastic. Now, the Joe Rogan experience, joined \n"
     ]
    }
   ],
   "source": [
    "for greeting in df[df[\"greeting_name\"] == \"other\"][\"greeting\"]:\n",
    "    print(greeting)"
   ]
  },
  {
   "cell_type": "markdown",
   "id": "ed0c6ec9",
   "metadata": {},
   "source": [
    "### TODO\n",
    "- always compare results across different data sets, with/without ads, spell check, etc\n",
    "- create df run spell check to correct speech to text errors\n",
    "- create df without ads in transcripts\n",
    "- cluster: by guest_desc\n",
    "- sentiment analysis\n",
    "- train model on rogan transcript only, predict next response, sentence\n",
    "- number of offensive sentences, average prob per sentence?"
   ]
  },
  {
   "cell_type": "markdown",
   "id": "3618275a",
   "metadata": {},
   "source": [
    "## Profanity"
   ]
  },
  {
   "cell_type": "code",
   "execution_count": 11,
   "id": "c491c17b",
   "metadata": {},
   "outputs": [],
   "source": [
    "from profanity_check import predict, predict_prob"
   ]
  },
  {
   "cell_type": "code",
   "execution_count": 12,
   "id": "c97603d6",
   "metadata": {},
   "outputs": [],
   "source": [
    "df[\"profanity_pred\"] = df[\"transcript\"].apply(lambda s: [s]).apply(predict).apply(bool)\n",
    "df[\"profanity_prob\"] = df[\"transcript\"].apply(lambda s: [s]).apply(predict_prob)"
   ]
  },
  {
   "cell_type": "code",
   "execution_count": 13,
   "id": "e4ce9bf0",
   "metadata": {
    "scrolled": false
   },
   "outputs": [
    {
     "data": {
      "text/html": [
       "<div>\n",
       "<style scoped>\n",
       "    .dataframe tbody tr th:only-of-type {\n",
       "        vertical-align: middle;\n",
       "    }\n",
       "\n",
       "    .dataframe tbody tr th {\n",
       "        vertical-align: top;\n",
       "    }\n",
       "\n",
       "    .dataframe thead th {\n",
       "        text-align: right;\n",
       "    }\n",
       "</style>\n",
       "<table border=\"1\" class=\"dataframe\">\n",
       "  <thead>\n",
       "    <tr style=\"text-align: right;\">\n",
       "      <th></th>\n",
       "      <th>guest</th>\n",
       "      <th>profanity_prob</th>\n",
       "      <th>profanity_pred</th>\n",
       "    </tr>\n",
       "  </thead>\n",
       "  <tbody>\n",
       "    <tr>\n",
       "      <th>20</th>\n",
       "      <td>Robert Schoch</td>\n",
       "      <td>[0.00019790937154024992]</td>\n",
       "      <td>False</td>\n",
       "    </tr>\n",
       "    <tr>\n",
       "      <th>247</th>\n",
       "      <td>Brian Muraresku &amp; Graham Hancock</td>\n",
       "      <td>[0.00153465072474582]</td>\n",
       "      <td>False</td>\n",
       "    </tr>\n",
       "    <tr>\n",
       "      <th>71</th>\n",
       "      <td>Chris Kresser &amp; Dr. Joel Kahn</td>\n",
       "      <td>[0.0017442293476518731]</td>\n",
       "      <td>False</td>\n",
       "    </tr>\n",
       "    <tr>\n",
       "      <th>112</th>\n",
       "      <td>Sir Roger Penrose</td>\n",
       "      <td>[0.0023878808165375917]</td>\n",
       "      <td>False</td>\n",
       "    </tr>\n",
       "    <tr>\n",
       "      <th>129</th>\n",
       "      <td>Brian Cox</td>\n",
       "      <td>[0.0026294748018217224]</td>\n",
       "      <td>False</td>\n",
       "    </tr>\n",
       "    <tr>\n",
       "      <th>...</th>\n",
       "      <td>...</td>\n",
       "      <td>...</td>\n",
       "      <td>...</td>\n",
       "    </tr>\n",
       "    <tr>\n",
       "      <th>116</th>\n",
       "      <td>Joey Diaz</td>\n",
       "      <td>[0.9999983703826889]</td>\n",
       "      <td>True</td>\n",
       "    </tr>\n",
       "    <tr>\n",
       "      <th>44</th>\n",
       "      <td>Andrew Santino</td>\n",
       "      <td>[0.9999990169487569]</td>\n",
       "      <td>True</td>\n",
       "    </tr>\n",
       "    <tr>\n",
       "      <th>79</th>\n",
       "      <td>Andrew Santino</td>\n",
       "      <td>[0.9999993168867961]</td>\n",
       "      <td>True</td>\n",
       "    </tr>\n",
       "    <tr>\n",
       "      <th>36</th>\n",
       "      <td>Joey Diaz</td>\n",
       "      <td>[0.9999999105362303]</td>\n",
       "      <td>True</td>\n",
       "    </tr>\n",
       "    <tr>\n",
       "      <th>48</th>\n",
       "      <td>John Joseph</td>\n",
       "      <td>[0.9999999910378404]</td>\n",
       "      <td>True</td>\n",
       "    </tr>\n",
       "  </tbody>\n",
       "</table>\n",
       "<p>282 rows × 3 columns</p>\n",
       "</div>"
      ],
      "text/plain": [
       "                                guest            profanity_prob  \\\n",
       "20                      Robert Schoch  [0.00019790937154024992]   \n",
       "247  Brian Muraresku & Graham Hancock     [0.00153465072474582]   \n",
       "71      Chris Kresser & Dr. Joel Kahn   [0.0017442293476518731]   \n",
       "112                 Sir Roger Penrose   [0.0023878808165375917]   \n",
       "129                         Brian Cox   [0.0026294748018217224]   \n",
       "..                                ...                       ...   \n",
       "116                         Joey Diaz      [0.9999983703826889]   \n",
       "44                     Andrew Santino      [0.9999990169487569]   \n",
       "79                     Andrew Santino      [0.9999993168867961]   \n",
       "36                          Joey Diaz      [0.9999999105362303]   \n",
       "48                        John Joseph      [0.9999999910378404]   \n",
       "\n",
       "     profanity_pred  \n",
       "20            False  \n",
       "247           False  \n",
       "71            False  \n",
       "112           False  \n",
       "129           False  \n",
       "..              ...  \n",
       "116            True  \n",
       "44             True  \n",
       "79             True  \n",
       "36             True  \n",
       "48             True  \n",
       "\n",
       "[282 rows x 3 columns]"
      ]
     },
     "execution_count": 13,
     "metadata": {},
     "output_type": "execute_result"
    }
   ],
   "source": [
    "df[[\"guest\",\"profanity_prob\", \"profanity_pred\"]].sort_values(\"profanity_prob\")"
   ]
  },
  {
   "cell_type": "code",
   "execution_count": 33,
   "id": "fc09c93e",
   "metadata": {},
   "outputs": [
    {
     "data": {
      "text/plain": [
       "<AxesSubplot:xlabel='profanity_pred'>"
      ]
     },
     "execution_count": 33,
     "metadata": {},
     "output_type": "execute_result"
    },
    {
     "data": {
      "image/png": "[encoded data removed]",
      "text/plain": [
       "<Figure size 432x288 with 1 Axes>"
      ]
     },
     "metadata": {
      "needs_background": "light"
     },
     "output_type": "display_data"
    }
   ],
   "source": [
    "df.groupby(\"profanity_pred\").size().plot.bar()"
   ]
  },
  {
   "cell_type": "markdown",
   "id": "2a50ed42",
   "metadata": {},
   "source": [
    "### Resources\n",
    "#### Profanity\n",
    "- https://towardsdatascience.com/building-a-better-profanity-detection-library-with-scikit-learn-3638b2f2c4c2\n",
    "- https://github.com/vzhou842/profanity-check"
   ]
  },
  {
   "cell_type": "code",
   "execution_count": null,
   "id": "106fd630",
   "metadata": {},
   "outputs": [],
   "source": []
  }
 ],
 "metadata": {
  "kernelspec": {
   "display_name": "Python 3 (ipykernel)",
   "language": "python",
   "name": "python3"
  },
  "language_info": {
   "codemirror_mode": {
    "name": "ipython",
    "version": 3
   },
   "file_extension": ".py",
   "mimetype": "text/x-python",
   "name": "python",
   "nbconvert_exporter": "python",
   "pygments_lexer": "ipython3",
   "version": "3.9.7"
  }
 },
 "nbformat": 4,
 "nbformat_minor": 5
}
