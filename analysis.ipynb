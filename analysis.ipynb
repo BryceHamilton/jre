{
 "cells": [
  {
   "cell_type": "code",
   "execution_count": 1,
   "id": "9310ccf1",
   "metadata": {},
   "outputs": [],
   "source": [
    "import pandas as pd"
   ]
  },
  {
   "cell_type": "code",
   "execution_count": 2,
   "id": "aafa5fd2",
   "metadata": {},
   "outputs": [],
   "source": [
    "df = pd.read_csv(\"jre.csv\")\n",
    "df = df.drop(columns=[\"Unnamed: 0\"])"
   ]
  },
  {
   "cell_type": "code",
   "execution_count": 3,
   "id": "4ac73e9f",
   "metadata": {
    "scrolled": true
   },
   "outputs": [
    {
     "data": {
      "text/html": [
       "<div>\n",
       "<style scoped>\n",
       "    .dataframe tbody tr th:only-of-type {\n",
       "        vertical-align: middle;\n",
       "    }\n",
       "\n",
       "    .dataframe tbody tr th {\n",
       "        vertical-align: top;\n",
       "    }\n",
       "\n",
       "    .dataframe thead th {\n",
       "        text-align: right;\n",
       "    }\n",
       "</style>\n",
       "<table border=\"1\" class=\"dataframe\">\n",
       "  <thead>\n",
       "    <tr style=\"text-align: right;\">\n",
       "      <th></th>\n",
       "      <th>pod_num</th>\n",
       "      <th>guest</th>\n",
       "      <th>transcript</th>\n",
       "    </tr>\n",
       "  </thead>\n",
       "  <tbody>\n",
       "    <tr>\n",
       "      <th>0</th>\n",
       "      <td>1104</td>\n",
       "      <td>Boyan Slat</td>\n",
       "      <td>Ladies and gentlemen, welcome to the show. Ho...</td>\n",
       "    </tr>\n",
       "    <tr>\n",
       "      <th>1</th>\n",
       "      <td>1105</td>\n",
       "      <td>Michael Hunter</td>\n",
       "      <td>Hey everybody, how the fuck are ya? Huh? Huh?...</td>\n",
       "    </tr>\n",
       "    <tr>\n",
       "      <th>2</th>\n",
       "      <td>1106</td>\n",
       "      <td>Colion Noir</td>\n",
       "      <td>hey ladies gentlemen how's the thing this epi...</td>\n",
       "    </tr>\n",
       "    <tr>\n",
       "      <th>3</th>\n",
       "      <td>1107</td>\n",
       "      <td>Sam Harris &amp; Maajid Nawaz</td>\n",
       "      <td>hey you friends what's going on this episode ...</td>\n",
       "    </tr>\n",
       "    <tr>\n",
       "      <th>4</th>\n",
       "      <td>1108</td>\n",
       "      <td>Peter Attia</td>\n",
       "      <td>late and gentlemen how's everyone doing I'm d...</td>\n",
       "    </tr>\n",
       "  </tbody>\n",
       "</table>\n",
       "</div>"
      ],
      "text/plain": [
       "  pod_num                      guest  \\\n",
       "0    1104                 Boyan Slat   \n",
       "1    1105             Michael Hunter   \n",
       "2    1106                Colion Noir   \n",
       "3    1107  Sam Harris & Maajid Nawaz   \n",
       "4    1108                Peter Attia   \n",
       "\n",
       "                                          transcript  \n",
       "0   Ladies and gentlemen, welcome to the show. Ho...  \n",
       "1   Hey everybody, how the fuck are ya? Huh? Huh?...  \n",
       "2   hey ladies gentlemen how's the thing this epi...  \n",
       "3   hey you friends what's going on this episode ...  \n",
       "4   late and gentlemen how's everyone doing I'm d...  "
      ]
     },
     "execution_count": 3,
     "metadata": {},
     "output_type": "execute_result"
    }
   ],
   "source": [
    "df.head(5)"
   ]
  },
  {
   "cell_type": "code",
   "execution_count": 4,
   "id": "2013ffc7",
   "metadata": {},
   "outputs": [
    {
     "data": {
      "text/plain": [
       "280"
      ]
     },
     "execution_count": 4,
     "metadata": {},
     "output_type": "execute_result"
    }
   ],
   "source": [
    "len(df)"
   ]
  },
  {
   "cell_type": "markdown",
   "id": "f3e2a7f2",
   "metadata": {},
   "source": [
    "## Guests"
   ]
  },
  {
   "cell_type": "code",
   "execution_count": 5,
   "id": "8c530e61",
   "metadata": {},
   "outputs": [
    {
     "data": {
      "text/plain": [
       "guest\n",
       "Tom Papa              4.0\n",
       "Tim Dillon            4.0\n",
       "Mike Baker            4.0\n",
       "Tony Hinchcliffe      3.0\n",
       "Lex Fridman           3.0\n",
       "Theo Von              3.0\n",
       "Duncan Trussell       3.0\n",
       "Joey Diaz             3.0\n",
       "Tom Green             2.0\n",
       "Tim Pool              2.0\n",
       "Tim Kennedy           2.0\n",
       "Steven Rinella        2.0\n",
       "Peter Schiff          2.0\n",
       "Nikki Glaser          2.0\n",
       "Mike Tyson            2.0\n",
       "Andrew Santino        2.0\n",
       "Kyle Dunnigan         2.0\n",
       "Andrew Schulz         2.0\n",
       "Gad Saad              2.0\n",
       "Dr. Rhonda Patrick    2.0\n",
       "Dr. Debra Soh         2.0\n",
       "Donnell Rawlings      2.0\n",
       "Colion Noir           2.0\n",
       "Cameron Hanes         2.0\n",
       "Brian Redban          2.0\n",
       "Brendan Schaub        2.0\n",
       "Bill Burr             2.0\n",
       "Ben Greenfield        2.0\n",
       "Jordan Peterson       2.0\n",
       "dtype: float64"
      ]
     },
     "execution_count": 5,
     "metadata": {},
     "output_type": "execute_result"
    }
   ],
   "source": [
    "guests = df.groupby(\"guest\").size()\n",
    "reocurring_guests = guests.where(guests > 1).dropna()\n",
    "reocurring_guests.sort_values(ascending=False)"
   ]
  },
  {
   "cell_type": "code",
   "execution_count": 6,
   "id": "3a87fbee",
   "metadata": {},
   "outputs": [],
   "source": [
    "def get_greeting(greeting):\n",
    "    if \"gentlemen\" in greeting or \"ladies\" in greeting:\n",
    "        return \"ladies and gentlemen\"\n",
    "    elif \"friends\" in greeting:\n",
    "        return \"friends\"\n",
    "    elif \"everybody\" in greeting:\n",
    "        return \"everybody\"\n",
    "    elif \"folks\" in greeting:\n",
    "        return \"folks\"\n",
    "    else:\n",
    "        return \"other\""
   ]
  },
  {
   "cell_type": "code",
   "execution_count": 7,
   "id": "91f549a0",
   "metadata": {
    "scrolled": true
   },
   "outputs": [],
   "source": [
    "df[\"greeting\"] = df[\"transcript\"].str[:50]\n",
    "df[\"greeting_name\"] = df[\"greeting\"].apply(get_greeting)"
   ]
  },
  {
   "cell_type": "code",
   "execution_count": 8,
   "id": "eb690163",
   "metadata": {},
   "outputs": [
    {
     "data": {
      "text/plain": [
       "<AxesSubplot:xlabel='greeting_name'>"
      ]
     },
     "execution_count": 8,
     "metadata": {},
     "output_type": "execute_result"
    },
    {
     "data": {
      "image/png": "[encoded data removed]",
      "text/plain": [
       "<Figure size 432x288 with 1 Axes>"
      ]
     },
     "metadata": {
      "needs_background": "light"
     },
     "output_type": "display_data"
    }
   ],
   "source": [
    "df.groupby(\"greeting_name\").size().plot.bar()"
   ]
  },
  {
   "cell_type": "code",
   "execution_count": 9,
   "id": "7d6634e6",
   "metadata": {},
   "outputs": [
    {
     "data": {
      "text/plain": [
       "7       this episode of the motherfuking podcast my c...\n",
       "89      this episode of the motherfuking pop. Brought...\n",
       "91      this episode of the motherfuking podcast is b...\n",
       "102     it's the day before motherfuking Thanksgiving...\n",
       "Name: greeting, dtype: object"
      ]
     },
     "execution_count": 9,
     "metadata": {},
     "output_type": "execute_result"
    }
   ],
   "source": [
    "df[df[\"greeting\"].str.contains(\"motherfuking\")][\"greeting\"]"
   ]
  },
  {
   "cell_type": "code",
   "execution_count": 10,
   "id": "939eaf57",
   "metadata": {},
   "outputs": [
    {
     "name": "stdout",
     "output_type": "stream",
     "text": [
      " this episode is brought to you by Onnit most of t\n",
      " this episode of the motherfuking podcast my compa\n",
      " Yo Boise Idaho we're coming to town baby! June 30\n",
      " I'm taking this show on the Madison area I can't \n",
      " beautiful people of the world hi how you doing go\n",
      " he you fuckers Toronto oh shit Toronto coming in \n",
      " hey Boise Idaho and other people but I'm going to\n",
      " hey buddy I got a bunch of tour dates coming up a\n",
      " I'm going to Tucson on Friday in Boise on Saturda\n",
      " I'm back I had to go I had to take some time off \n",
      " raise in Toronto September 29th I've said this a \n",
      " this episode of the podcast is brought to you by \n",
      " this episode of the podcast is brought to you by \n",
      " Netflix You Beautiful bastards Joey Diaz specials\n",
      " this episode of the motherfuking pop. Brought to \n",
      " this episode of the motherfuking podcast is broug\n",
      " it's the day before motherfuking Thanksgiving and\n",
      " this episode of the podcast is brought to you by \n",
      " Bishop so the podcast is brought to you by Square\n",
      "   they  fit like designer jeans from Italy. But w\n"
     ]
    }
   ],
   "source": [
    "for greeting in df[df[\"greeting_name\"] == \"other\"][\"greeting\"]:\n",
    "    print(greeting)"
   ]
  },
  {
   "cell_type": "markdown",
   "id": "ed0c6ec9",
   "metadata": {},
   "source": [
    "### TODO\n",
    "- always compare results across different data sets, with/without ads, spell check, etc\n",
    "- create df run spell check to correct speech to text errors\n",
    "- create df without ads in transcripts\n",
    "- sentiment analysis"
   ]
  },
  {
   "cell_type": "markdown",
   "id": "3618275a",
   "metadata": {},
   "source": [
    "## Guests\n",
    "- check profanity on each pod, probability of entire transcript, then number of sentences with prob > .5"
   ]
  },
  {
   "cell_type": "code",
   "execution_count": 11,
   "id": "c491c17b",
   "metadata": {},
   "outputs": [],
   "source": [
    "from profanity_check import predict, predict_prob"
   ]
  },
  {
   "cell_type": "code",
   "execution_count": 22,
   "id": "c97603d6",
   "metadata": {
    "collapsed": true
   },
   "outputs": [
    {
     "data": {
      "text/html": [
       "<div>\n",
       "<style scoped>\n",
       "    .dataframe tbody tr th:only-of-type {\n",
       "        vertical-align: middle;\n",
       "    }\n",
       "\n",
       "    .dataframe tbody tr th {\n",
       "        vertical-align: top;\n",
       "    }\n",
       "\n",
       "    .dataframe thead th {\n",
       "        text-align: right;\n",
       "    }\n",
       "</style>\n",
       "<table border=\"1\" class=\"dataframe\">\n",
       "  <thead>\n",
       "    <tr style=\"text-align: right;\">\n",
       "      <th></th>\n",
       "      <th>guest</th>\n",
       "      <th>profanity_prob</th>\n",
       "      <th>profanity_pred</th>\n",
       "    </tr>\n",
       "  </thead>\n",
       "  <tbody>\n",
       "    <tr>\n",
       "      <th>20</th>\n",
       "      <td>Robert Schoch</td>\n",
       "      <td>[0.00019790937154024992]</td>\n",
       "      <td>False</td>\n",
       "    </tr>\n",
       "    <tr>\n",
       "      <th>246</th>\n",
       "      <td>Brian Muraresku &amp; Graham Hancock</td>\n",
       "      <td>[0.00153465072474582]</td>\n",
       "      <td>False</td>\n",
       "    </tr>\n",
       "    <tr>\n",
       "      <th>71</th>\n",
       "      <td>Chris Kresser &amp; Dr. Joel Kahn</td>\n",
       "      <td>[0.0017442293476518731]</td>\n",
       "      <td>False</td>\n",
       "    </tr>\n",
       "    <tr>\n",
       "      <th>111</th>\n",
       "      <td>Sir Roger Penrose</td>\n",
       "      <td>[0.0023878808165375917]</td>\n",
       "      <td>False</td>\n",
       "    </tr>\n",
       "    <tr>\n",
       "      <th>128</th>\n",
       "      <td>Brian Cox</td>\n",
       "      <td>[0.0026294748018217224]</td>\n",
       "      <td>False</td>\n",
       "    </tr>\n",
       "    <tr>\n",
       "      <th>...</th>\n",
       "      <td>...</td>\n",
       "      <td>...</td>\n",
       "      <td>...</td>\n",
       "    </tr>\n",
       "    <tr>\n",
       "      <th>115</th>\n",
       "      <td>Joey Diaz</td>\n",
       "      <td>[0.9999983703826889]</td>\n",
       "      <td>True</td>\n",
       "    </tr>\n",
       "    <tr>\n",
       "      <th>44</th>\n",
       "      <td>Andrew Santino</td>\n",
       "      <td>[0.9999990169487569]</td>\n",
       "      <td>True</td>\n",
       "    </tr>\n",
       "    <tr>\n",
       "      <th>79</th>\n",
       "      <td>Andrew Santino</td>\n",
       "      <td>[0.9999993168867961]</td>\n",
       "      <td>True</td>\n",
       "    </tr>\n",
       "    <tr>\n",
       "      <th>36</th>\n",
       "      <td>Joey Diaz</td>\n",
       "      <td>[0.9999999105362303]</td>\n",
       "      <td>True</td>\n",
       "    </tr>\n",
       "    <tr>\n",
       "      <th>48</th>\n",
       "      <td>John Joseph</td>\n",
       "      <td>[0.9999999910378404]</td>\n",
       "      <td>True</td>\n",
       "    </tr>\n",
       "  </tbody>\n",
       "</table>\n",
       "<p>280 rows × 3 columns</p>\n",
       "</div>"
      ],
      "text/plain": [
       "                                guest            profanity_prob  \\\n",
       "20                      Robert Schoch  [0.00019790937154024992]   \n",
       "246  Brian Muraresku & Graham Hancock     [0.00153465072474582]   \n",
       "71      Chris Kresser & Dr. Joel Kahn   [0.0017442293476518731]   \n",
       "111                 Sir Roger Penrose   [0.0023878808165375917]   \n",
       "128                         Brian Cox   [0.0026294748018217224]   \n",
       "..                                ...                       ...   \n",
       "115                         Joey Diaz      [0.9999983703826889]   \n",
       "44                     Andrew Santino      [0.9999990169487569]   \n",
       "79                     Andrew Santino      [0.9999993168867961]   \n",
       "36                          Joey Diaz      [0.9999999105362303]   \n",
       "48                        John Joseph      [0.9999999910378404]   \n",
       "\n",
       "     profanity_pred  \n",
       "20            False  \n",
       "246           False  \n",
       "71            False  \n",
       "111           False  \n",
       "128           False  \n",
       "..              ...  \n",
       "115            True  \n",
       "44             True  \n",
       "79             True  \n",
       "36             True  \n",
       "48             True  \n",
       "\n",
       "[280 rows x 3 columns]"
      ]
     },
     "execution_count": 22,
     "metadata": {},
     "output_type": "execute_result"
    }
   ],
   "source": [
    "df[\"profanity_pred\"] = df[\"transcript\"].apply(lambda s: [s]).apply(predict).apply(bool)\n",
    "df[\"profanity_prob\"] = df[\"transcript\"].apply(lambda s: [s]).apply(predict_prob)"
   ]
  },
  {
   "cell_type": "code",
   "execution_count": 23,
   "id": "e4ce9bf0",
   "metadata": {
    "scrolled": false
   },
   "outputs": [
    {
     "data": {
      "text/html": [
       "<div>\n",
       "<style scoped>\n",
       "    .dataframe tbody tr th:only-of-type {\n",
       "        vertical-align: middle;\n",
       "    }\n",
       "\n",
       "    .dataframe tbody tr th {\n",
       "        vertical-align: top;\n",
       "    }\n",
       "\n",
       "    .dataframe thead th {\n",
       "        text-align: right;\n",
       "    }\n",
       "</style>\n",
       "<table border=\"1\" class=\"dataframe\">\n",
       "  <thead>\n",
       "    <tr style=\"text-align: right;\">\n",
       "      <th></th>\n",
       "      <th>guest</th>\n",
       "      <th>profanity_prob</th>\n",
       "      <th>profanity_pred</th>\n",
       "    </tr>\n",
       "  </thead>\n",
       "  <tbody>\n",
       "    <tr>\n",
       "      <th>20</th>\n",
       "      <td>Robert Schoch</td>\n",
       "      <td>[0.00019790937154024992]</td>\n",
       "      <td>False</td>\n",
       "    </tr>\n",
       "    <tr>\n",
       "      <th>246</th>\n",
       "      <td>Brian Muraresku &amp; Graham Hancock</td>\n",
       "      <td>[0.00153465072474582]</td>\n",
       "      <td>False</td>\n",
       "    </tr>\n",
       "    <tr>\n",
       "      <th>71</th>\n",
       "      <td>Chris Kresser &amp; Dr. Joel Kahn</td>\n",
       "      <td>[0.0017442293476518731]</td>\n",
       "      <td>False</td>\n",
       "    </tr>\n",
       "    <tr>\n",
       "      <th>111</th>\n",
       "      <td>Sir Roger Penrose</td>\n",
       "      <td>[0.0023878808165375917]</td>\n",
       "      <td>False</td>\n",
       "    </tr>\n",
       "    <tr>\n",
       "      <th>128</th>\n",
       "      <td>Brian Cox</td>\n",
       "      <td>[0.0026294748018217224]</td>\n",
       "      <td>False</td>\n",
       "    </tr>\n",
       "    <tr>\n",
       "      <th>...</th>\n",
       "      <td>...</td>\n",
       "      <td>...</td>\n",
       "      <td>...</td>\n",
       "    </tr>\n",
       "    <tr>\n",
       "      <th>115</th>\n",
       "      <td>Joey Diaz</td>\n",
       "      <td>[0.9999983703826889]</td>\n",
       "      <td>True</td>\n",
       "    </tr>\n",
       "    <tr>\n",
       "      <th>44</th>\n",
       "      <td>Andrew Santino</td>\n",
       "      <td>[0.9999990169487569]</td>\n",
       "      <td>True</td>\n",
       "    </tr>\n",
       "    <tr>\n",
       "      <th>79</th>\n",
       "      <td>Andrew Santino</td>\n",
       "      <td>[0.9999993168867961]</td>\n",
       "      <td>True</td>\n",
       "    </tr>\n",
       "    <tr>\n",
       "      <th>36</th>\n",
       "      <td>Joey Diaz</td>\n",
       "      <td>[0.9999999105362303]</td>\n",
       "      <td>True</td>\n",
       "    </tr>\n",
       "    <tr>\n",
       "      <th>48</th>\n",
       "      <td>John Joseph</td>\n",
       "      <td>[0.9999999910378404]</td>\n",
       "      <td>True</td>\n",
       "    </tr>\n",
       "  </tbody>\n",
       "</table>\n",
       "<p>280 rows × 3 columns</p>\n",
       "</div>"
      ],
      "text/plain": [
       "                                guest            profanity_prob  \\\n",
       "20                      Robert Schoch  [0.00019790937154024992]   \n",
       "246  Brian Muraresku & Graham Hancock     [0.00153465072474582]   \n",
       "71      Chris Kresser & Dr. Joel Kahn   [0.0017442293476518731]   \n",
       "111                 Sir Roger Penrose   [0.0023878808165375917]   \n",
       "128                         Brian Cox   [0.0026294748018217224]   \n",
       "..                                ...                       ...   \n",
       "115                         Joey Diaz      [0.9999983703826889]   \n",
       "44                     Andrew Santino      [0.9999990169487569]   \n",
       "79                     Andrew Santino      [0.9999993168867961]   \n",
       "36                          Joey Diaz      [0.9999999105362303]   \n",
       "48                        John Joseph      [0.9999999910378404]   \n",
       "\n",
       "     profanity_pred  \n",
       "20            False  \n",
       "246           False  \n",
       "71            False  \n",
       "111           False  \n",
       "128           False  \n",
       "..              ...  \n",
       "115            True  \n",
       "44             True  \n",
       "79             True  \n",
       "36             True  \n",
       "48             True  \n",
       "\n",
       "[280 rows x 3 columns]"
      ]
     },
     "execution_count": 23,
     "metadata": {},
     "output_type": "execute_result"
    }
   ],
   "source": [
    "df[[\"guest\",\"profanity_prob\", \"profanity_pred\"]].sort_values(\"profanity_prob\")"
   ]
  },
  {
   "cell_type": "code",
   "execution_count": 33,
   "id": "fc09c93e",
   "metadata": {},
   "outputs": [
    {
     "data": {
      "text/plain": [
       "<AxesSubplot:xlabel='profanity_pred'>"
      ]
     },
     "execution_count": 33,
     "metadata": {},
     "output_type": "execute_result"
    },
    {
     "data": {
      "image/png": "[encoded data removed]",
      "text/plain": [
       "<Figure size 432x288 with 1 Axes>"
      ]
     },
     "metadata": {
      "needs_background": "light"
     },
     "output_type": "display_data"
    }
   ],
   "source": [
    "df.groupby(\"profanity_pred\").size().plot.bar()"
   ]
  },
  {
   "cell_type": "markdown",
   "id": "2a50ed42",
   "metadata": {},
   "source": [
    "### Resources\n",
    "#### Profanity\n",
    "- https://towardsdatascience.com/building-a-better-profanity-detection-library-with-scikit-learn-3638b2f2c4c2\n",
    "- https://github.com/vzhou842/profanity-check"
   ]
  },
  {
   "cell_type": "code",
   "execution_count": null,
   "id": "106fd630",
   "metadata": {},
   "outputs": [],
   "source": []
  }
 ],
 "metadata": {
  "kernelspec": {
   "display_name": "Python 3 (ipykernel)",
   "language": "python",
   "name": "python3"
  },
  "language_info": {
   "codemirror_mode": {
    "name": "ipython",
    "version": 3
   },
   "file_extension": ".py",
   "mimetype": "text/x-python",
   "name": "python",
   "nbconvert_exporter": "python",
   "pygments_lexer": "ipython3",
   "version": "3.9.7"
  }
 },
 "nbformat": 4,
 "nbformat_minor": 5
}
